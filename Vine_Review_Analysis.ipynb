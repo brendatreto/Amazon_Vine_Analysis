{
  "nbformat": 4,
  "nbformat_minor": 0,
  "metadata": {
    "colab": {
      "name": "Vine_Review_Analysis.ipynb",
      "provenance": []
    },
    "kernelspec": {
      "name": "python3",
      "display_name": "Python 3"
    },
    "language_info": {
      "name": "python"
    }
  },
  "cells": [
    {
      "cell_type": "code",
      "execution_count": 1,
      "metadata": {
        "colab": {
          "base_uri": "https://localhost:8080/"
        },
        "id": "1pd4O7vlsXtm",
        "outputId": "ec835f63-1a3d-4fdc-97e0-326e648a1599"
      },
      "outputs": [
        {
          "output_type": "stream",
          "name": "stdout",
          "text": [
            "\r0% [Working]\r            \rGet:1 https://developer.download.nvidia.com/compute/cuda/repos/ubuntu1804/x86_64  InRelease [1,575 B]\n",
            "\r0% [Connecting to archive.ubuntu.com] [Connecting to security.ubuntu.com] [Conn\r0% [Connecting to archive.ubuntu.com] [Connecting to security.ubuntu.com] [Conn\r0% [1 InRelease gpgv 1,575 B] [Connecting to archive.ubuntu.com] [Connecting to\r                                                                               \rGet:2 https://cloud.r-project.org/bin/linux/ubuntu bionic-cran40/ InRelease [3,626 B]\n",
            "\r0% [1 InRelease gpgv 1,575 B] [Connecting to archive.ubuntu.com] [Connecting to\r                                                                               \rIgn:3 https://developer.download.nvidia.com/compute/machine-learning/repos/ubuntu1804/x86_64  InRelease\n",
            "Hit:4 https://developer.download.nvidia.com/compute/machine-learning/repos/ubuntu1804/x86_64  Release\n",
            "Get:5 http://security.ubuntu.com/ubuntu bionic-security InRelease [88.7 kB]\n",
            "Hit:6 http://ppa.launchpad.net/c2d4u.team/c2d4u4.0+/ubuntu bionic InRelease\n",
            "Hit:7 http://archive.ubuntu.com/ubuntu bionic InRelease\n",
            "Get:8 http://archive.ubuntu.com/ubuntu bionic-updates InRelease [88.7 kB]\n",
            "Err:1 https://developer.download.nvidia.com/compute/cuda/repos/ubuntu1804/x86_64  InRelease\n",
            "  The following signatures couldn't be verified because the public key is not available: NO_PUBKEY A4B469963BF863CC\n",
            "Hit:9 http://ppa.launchpad.net/cran/libgit2/ubuntu bionic InRelease\n",
            "Hit:10 http://ppa.launchpad.net/deadsnakes/ppa/ubuntu bionic InRelease\n",
            "Get:11 http://archive.ubuntu.com/ubuntu bionic-backports InRelease [74.6 kB]\n",
            "Get:12 https://cloud.r-project.org/bin/linux/ubuntu bionic-cran40/ Packages [84.5 kB]\n",
            "Hit:13 http://ppa.launchpad.net/graphics-drivers/ppa/ubuntu bionic InRelease\n",
            "Get:15 http://security.ubuntu.com/ubuntu bionic-security/universe amd64 Packages [1,496 kB]\n",
            "Get:16 http://security.ubuntu.com/ubuntu bionic-security/main amd64 Packages [2,733 kB]\n",
            "Get:17 http://security.ubuntu.com/ubuntu bionic-security/restricted amd64 Packages [909 kB]\n",
            "Get:18 http://archive.ubuntu.com/ubuntu bionic-updates/main amd64 Packages [3,167 kB]\n",
            "Get:19 http://archive.ubuntu.com/ubuntu bionic-updates/restricted amd64 Packages [942 kB]\n",
            "Get:20 http://archive.ubuntu.com/ubuntu bionic-updates/universe amd64 Packages [2,272 kB]\n",
            "Reading package lists... Done\n",
            "W: GPG error: https://developer.download.nvidia.com/compute/cuda/repos/ubuntu1804/x86_64  InRelease: The following signatures couldn't be verified because the public key is not available: NO_PUBKEY A4B469963BF863CC\n",
            "E: The repository 'https://developer.download.nvidia.com/compute/cuda/repos/ubuntu1804/x86_64  InRelease' is no longer signed.\n",
            "N: Updating from such a repository can't be done securely, and is therefore disabled by default.\n",
            "N: See apt-secure(8) manpage for repository creation and user configuration details.\n"
          ]
        }
      ],
      "source": [
        "import os\n",
        "# Find the latest version of spark 3.0 from http://www.apache.org/dist/spark/ and enter as the spark version\n",
        "# For example:\n",
        "# spark_version = 'spark-3.0.3'\n",
        "spark_version = 'spark-3.0.3'\n",
        "os.environ['SPARK_VERSION']=spark_version\n",
        "\n",
        "# Install Spark and Java\n",
        "!apt-get update\n",
        "!apt-get install openjdk-11-jdk-headless -qq > /dev/null\n",
        "!wget -q http://www.apache.org/dist/spark/$SPARK_VERSION/$SPARK_VERSION-bin-hadoop2.7.tgz\n",
        "!tar xf $SPARK_VERSION-bin-hadoop2.7.tgz\n",
        "!pip install -q findspark\n",
        "\n",
        "# Set Environment Variables\n",
        "import os\n",
        "os.environ[\"JAVA_HOME\"] = \"/usr/lib/jvm/java-11-openjdk-amd64\"\n",
        "os.environ[\"SPARK_HOME\"] = f\"/content/{spark_version}-bin-hadoop2.7\"\n",
        "\n",
        "# Start a SparkSession\n",
        "import findspark\n",
        "findspark.init()"
      ]
    },
    {
      "cell_type": "code",
      "source": [
        "from pyspark.sql import SparkSession\n",
        "spark = SparkSession.builder.appName(\"M16-Challenge\").config(\"spark.driver.extraClassPath\",\"/content/postgresql-42.2.16.jar\").getOrCreate()"
      ],
      "metadata": {
        "id": "J-ZA6rAMszj8"
      },
      "execution_count": 2,
      "outputs": []
    },
    {
      "cell_type": "code",
      "source": [
        "from pyspark import SparkFiles\n",
        "url = \"https://s3.amazonaws.com/amazon-reviews-pds/tsv/amazon_reviews_us_Books_v1_02.tsv.gz\"\n",
        "spark.sparkContext.addFile(url)\n",
        "df = spark.read.option(\"encoding\", \"UTF-8\").csv(SparkFiles.get(\"amazon_reviews_us_Books_v1_02.tsv.gz\"), sep=\"\\t\", header=True, inferSchema=True)\n",
        "df.show()"
      ],
      "metadata": {
        "colab": {
          "base_uri": "https://localhost:8080/"
        },
        "id": "dsdCqX1Us7Uu",
        "outputId": "86266251-39bc-4023-d607-d2642b47282d"
      },
      "execution_count": 3,
      "outputs": [
        {
          "output_type": "stream",
          "name": "stdout",
          "text": [
            "+-----------+-----------+--------------+----------+--------------+--------------------+----------------+-----------+-------------+-----------+----+-----------------+--------------------+--------------------+-----------+\n",
            "|marketplace|customer_id|     review_id|product_id|product_parent|       product_title|product_category|star_rating|helpful_votes|total_votes|vine|verified_purchase|     review_headline|         review_body|review_date|\n",
            "+-----------+-----------+--------------+----------+--------------+--------------------+----------------+-----------+-------------+-----------+----+-----------------+--------------------+--------------------+-----------+\n",
            "|         US|   12076615| RQ58W7SMO911M|0385730586|     122662979|Sisterhood of the...|           Books|          4|            2|          3|   N|                N|this book was a g...|this boook was a ...| 2005-10-14|\n",
            "|         US|   12703090|  RF6IUKMGL8SF|0811828964|      56191234|The Bad Girl's Gu...|           Books|          3|            5|          5|   N|                N|           Fun Fluff|If you are lookin...| 2005-10-14|\n",
            "|         US|   12257412|R1DOSHH6AI622S|1844161560|     253182049|Eisenhorn (A Warh...|           Books|          4|            1|         22|   N|                N| this isn't a review|never read it-a y...| 2005-10-14|\n",
            "|         US|   50732546| RATOTLA3OF70O|0373836635|     348672532|Colby Conspiracy ...|           Books|          5|            2|          2|   N|                N|fine author on he...|Though she is hon...| 2005-10-14|\n",
            "|         US|   51964897|R1TNWRKIVHVYOV|0262181533|     598678717|The Psychology of...|           Books|          4|            0|          2|   N|                N|Execellent cursor...|Review based on a...| 2005-10-14|\n",
            "|         US|   31048862|R2F53LI9KK9MOY|0316769487|     862964341|The Catcher in th...|           Books|          4|            2|          2|   N|                N|   Interesting, fun.|My only complaint...| 2005-10-14|\n",
            "|         US|   53000124|R1KJ6MB7MRSQFF|0805076069|     145341889|Bait and Switch: ...|           Books|          4|            9|         11|   N|                N|I viewed this the...|This book is chil...| 2005-10-14|\n",
            "|         US|   29732693|R2XIM9LT335WHE|1581603681|     640542054|Opening Combinati...|           Books|          4|            3|         10|   N|                N|No Frills - Just ...|When looking for ...| 2005-10-14|\n",
            "|         US|   48541186|R1VE0FQQ0QTQJN|0300108834|     915891133|A Little History ...|           Books|          5|           16|         20|   N|                Y|Simple, entertain...|Never been much f...| 2005-10-14|\n",
            "|         US|   15280864|R1VKEE2NWSWDRU|0446531081|     880645124|Hour Game (King &...|           Books|          4|            0|          0|   N|                N|        A good read!|If you enjoy a we...| 2005-10-14|\n",
            "|         US|   24209213|R2UP6XSVYJBJ2H|0976822105|     731931430|     Faith is a Verb|           Books|          5|            0|          0|   N|                N|Made me Question ...|I thoroughly enjo...| 2005-10-14|\n",
            "|         US|   52253037|R21SYDQ70ILUC0|1580085695|     586052746|Furry Logic: A Gu...|           Books|          5|            1|          1|   N|                Y|    The Perfect Gift|If you are stumpe...| 2005-10-14|\n",
            "|         US|   27925116| R7M06Z88PD7SX|0029148510|      72387289|Acts of War: Beha...|           Books|          4|           14|         14|   N|                N|Solid Book About ...|Whether intention...| 2005-10-14|\n",
            "|         US|   15005044| RRS38KZ4WB5O2|1592285570|     702385650|Temple to the Win...|           Books|          5|            1|          1|   N|                N|A riveting accoun...|Temple to the win...| 2005-10-14|\n",
            "|         US|   52534781|R2YDYRSLGNHPHR|0811848833|     102333549|The Star Wars Pos...|           Books|          4|           16|         19|   N|                Y|Comprehensive vis...|At last... a comp...| 2005-10-14|\n",
            "|         US|   26217071|R1BMPM18O6VZOR|0782144276|     971452783|Photoshop for Nat...|           Books|          4|           13|         14|   N|                N|          Great Book|I find \\\\\"Photosh...| 2005-10-14|\n",
            "|         US|   37684582|R1AABFZH0J0C0C|0375757996|     760991156|The Basic Works o...|           Books|          3|           17|         35|   N|                N|Problems with thi...|I love Aristotle ...| 2005-10-14|\n",
            "|         US|   45232107|R3SJYLG07EHNE9|013146308X|     332774292|The Pterosaurs: F...|           Books|          2|           16|         34|   N|                N|Warmed over lefto...|To his discredit,...| 2005-10-14|\n",
            "|         US|   15437121|R2TIO43ND87XVO|0375701907|     635714194|Straight Man: A N...|           Books|          5|            1|          1|   N|                N|       Funniest Book|Hands down, the f...| 2005-10-14|\n",
            "|         US|   52157117|R18TY4WD19OUAO|141378240X|     656010659|   Lipstick's Legacy|           Books|          5|            1|          1|   N|                N|          Great Work|I read this book ...| 2005-10-14|\n",
            "+-----------+-----------+--------------+----------+--------------+--------------------+----------------+-----------+-------------+-----------+----+-----------------+--------------------+--------------------+-----------+\n",
            "only showing top 20 rows\n",
            "\n"
          ]
        }
      ]
    },
    {
      "cell_type": "code",
      "source": [
        "# Filter > 20 votes\n",
        "\n",
        "df_votes = df.filter(df.total_votes >=20)\n",
        "df_votes.show()\n"
      ],
      "metadata": {
        "colab": {
          "base_uri": "https://localhost:8080/"
        },
        "id": "1imMFiUithKV",
        "outputId": "99f2f094-f41c-40e9-c068-a09b94da7b76"
      },
      "execution_count": 24,
      "outputs": [
        {
          "output_type": "stream",
          "name": "stdout",
          "text": [
            "+-----------+-----------+--------------+----------+--------------+--------------------+----------------+-----------+-------------+-----------+----+-----------------+--------------------+--------------------+-----------+\n",
            "|marketplace|customer_id|     review_id|product_id|product_parent|       product_title|product_category|star_rating|helpful_votes|total_votes|vine|verified_purchase|     review_headline|         review_body|review_date|\n",
            "+-----------+-----------+--------------+----------+--------------+--------------------+----------------+-----------+-------------+-----------+----+-----------------+--------------------+--------------------+-----------+\n",
            "|         US|   12257412|R1DOSHH6AI622S|1844161560|     253182049|Eisenhorn (A Warh...|           Books|          4|            1|         22|   N|                N| this isn't a review|never read it-a y...| 2005-10-14|\n",
            "|         US|   48541186|R1VE0FQQ0QTQJN|0300108834|     915891133|A Little History ...|           Books|          5|           16|         20|   N|                Y|Simple, entertain...|Never been much f...| 2005-10-14|\n",
            "|         US|   37684582|R1AABFZH0J0C0C|0375757996|     760991156|The Basic Works o...|           Books|          3|           17|         35|   N|                N|Problems with thi...|I love Aristotle ...| 2005-10-14|\n",
            "|         US|   45232107|R3SJYLG07EHNE9|013146308X|     332774292|The Pterosaurs: F...|           Books|          2|           16|         34|   N|                N|Warmed over lefto...|To his discredit,...| 2005-10-14|\n",
            "|         US|   13503149|R3MD5TZJGIPTDU|1585424307|     915155182|Millionaire Repub...|           Books|          5|           21|         31|   N|                N|WHY NOT PRACTICE ...|This book isn't m...| 2005-10-14|\n",
            "|         US|   12073911|R1KPOIT5WT3NEF|0060839880|      66383248|The Case for Hill...|           Books|          1|           13|         29|   N|                N|       hurts to read|I swear, you've n...| 2005-10-14|\n",
            "|         US|   49355567| RX6OWUF8EFZ72|0060820810|     774905491|  The Stranger House|           Books|          5|           27|         28|   N|                N|PART ENGLISH HIST...|This is a marvelo...| 2005-10-14|\n",
            "|         US|   29963330| R33IFUWCNYFSO|0968925901|     434595631|Challenging the V...|           Books|          2|            4|         45|   N|                N|Clearly Earl miss...|The issue with op...| 2005-10-14|\n",
            "|         US|   23972711| RWMT2MXG3WLDP|0312873077|     542033688|Knife of Dreams (...|           Books|          5|            6|         20|   N|                N|               Great|If you like the s...| 2005-10-14|\n",
            "|         US|   50913245|R1OPUF771LL5O5|067983883X|     527133677|Aztec, Inca & May...|           Books|          4|           27|         27|   N|                N|The artifacts of ...|My assumption is ...| 2005-10-14|\n",
            "|         US|   12517857|R3AW5JRZYH66M5|097150072X|     363879785|Truth vs Falsehoo...|           Books|          1|          268|        307|   N|                N|An Unexpected Gif...|\\\\\"Truth vs False...| 2005-10-14|\n",
            "|         US|   39487575|R2DXLNKF0EL4CI|0060731192|     242809158|Breaking the Bamb...|           Books|          4|           24|         27|   N|                Y|A Must Read But S...|It is to Jane Hyu...| 2005-10-14|\n",
            "|         US|   38233919|R12EHXBC0GP2C2|0761563601|     217303865|The Ultimate Book...|           Books|          5|           23|         24|   N|                N|         A must own!|Dobson begins her...| 2005-10-14|\n",
            "|         US|   37217168|R2JSWNTAO83X3V|1872197108|     334546428|Hitler's War and ...|           Books|          5|          145|        184|   N|                N| A book for the ages|This book is famo...| 2005-10-14|\n",
            "|         US|   50774468|R3THZWOBS1086J|0345445872|     823414849|    Queen of Camelot|           Books|          5|           46|         47|   N|                N|Riveting Arthuria...|I have searched a...| 2005-10-14|\n",
            "|         US|   50036420|R160DHJPJ4B20R|051509479X|      37347433|What You Think of...|           Books|          4|           28|         30|   N|                N|This book surpris...|Prior to reading ...| 2005-10-14|\n",
            "|         US|   37811500|R27UDFNE6MY1LO|0742538168|     339619920|Attack the Messen...|           Books|          2|           15|         24|   N|                N|The messenger com...|While I don't alw...| 2005-10-14|\n",
            "|         US|   49441053|R34X92SSRBI0N4|0966170229|     396093604|PowerNomics : The...|           Books|          5|           26|         29|   N|                N|Live on your feet...|Mr. Andersons' bo...| 2005-10-14|\n",
            "|         US|   24104879| RDBVYHGTTICMV|0307283658|     162568542|Harry Potter and ...|           Books|          1|            4|         25|   N|                N|Always a great re...|THe book was good...| 2005-10-14|\n",
            "|         US|   46181400| RGTKXJ8P5O7LR|0679778438|     682401490|The Kin of Ata Ar...|           Books|          4|           16|         21|   N|                N|beautiful, but pr...|It is a lovely bo...| 2005-10-14|\n",
            "+-----------+-----------+--------------+----------+--------------+--------------------+----------------+-----------+-------------+-----------+----+-----------------+--------------------+--------------------+-----------+\n",
            "only showing top 20 rows\n",
            "\n"
          ]
        }
      ]
    },
    {
      "cell_type": "code",
      "source": [
        "# Filter helpful votes\n",
        "\n",
        "df_help = df_votes.filter((df_votes.helpful_votes / df_votes.total_votes) >= 0.5)\n",
        "df_help.show()"
      ],
      "metadata": {
        "colab": {
          "base_uri": "https://localhost:8080/"
        },
        "id": "u2iF07GLuCKo",
        "outputId": "63a66421-3a95-4d4f-d551-4e405f3517f7"
      },
      "execution_count": 26,
      "outputs": [
        {
          "output_type": "stream",
          "name": "stdout",
          "text": [
            "+-----------+-----------+--------------+----------+--------------+--------------------+----------------+-----------+-------------+-----------+----+-----------------+--------------------+--------------------+-----------+\n",
            "|marketplace|customer_id|     review_id|product_id|product_parent|       product_title|product_category|star_rating|helpful_votes|total_votes|vine|verified_purchase|     review_headline|         review_body|review_date|\n",
            "+-----------+-----------+--------------+----------+--------------+--------------------+----------------+-----------+-------------+-----------+----+-----------------+--------------------+--------------------+-----------+\n",
            "|         US|   48541186|R1VE0FQQ0QTQJN|0300108834|     915891133|A Little History ...|           Books|          5|           16|         20|   N|                Y|Simple, entertain...|Never been much f...| 2005-10-14|\n",
            "|         US|   13503149|R3MD5TZJGIPTDU|1585424307|     915155182|Millionaire Repub...|           Books|          5|           21|         31|   N|                N|WHY NOT PRACTICE ...|This book isn't m...| 2005-10-14|\n",
            "|         US|   49355567| RX6OWUF8EFZ72|0060820810|     774905491|  The Stranger House|           Books|          5|           27|         28|   N|                N|PART ENGLISH HIST...|This is a marvelo...| 2005-10-14|\n",
            "|         US|   50913245|R1OPUF771LL5O5|067983883X|     527133677|Aztec, Inca & May...|           Books|          4|           27|         27|   N|                N|The artifacts of ...|My assumption is ...| 2005-10-14|\n",
            "|         US|   12517857|R3AW5JRZYH66M5|097150072X|     363879785|Truth vs Falsehoo...|           Books|          1|          268|        307|   N|                N|An Unexpected Gif...|\\\\\"Truth vs False...| 2005-10-14|\n",
            "|         US|   39487575|R2DXLNKF0EL4CI|0060731192|     242809158|Breaking the Bamb...|           Books|          4|           24|         27|   N|                Y|A Must Read But S...|It is to Jane Hyu...| 2005-10-14|\n",
            "|         US|   38233919|R12EHXBC0GP2C2|0761563601|     217303865|The Ultimate Book...|           Books|          5|           23|         24|   N|                N|         A must own!|Dobson begins her...| 2005-10-14|\n",
            "|         US|   37217168|R2JSWNTAO83X3V|1872197108|     334546428|Hitler's War and ...|           Books|          5|          145|        184|   N|                N| A book for the ages|This book is famo...| 2005-10-14|\n",
            "|         US|   50774468|R3THZWOBS1086J|0345445872|     823414849|    Queen of Camelot|           Books|          5|           46|         47|   N|                N|Riveting Arthuria...|I have searched a...| 2005-10-14|\n",
            "|         US|   50036420|R160DHJPJ4B20R|051509479X|      37347433|What You Think of...|           Books|          4|           28|         30|   N|                N|This book surpris...|Prior to reading ...| 2005-10-14|\n",
            "|         US|   37811500|R27UDFNE6MY1LO|0742538168|     339619920|Attack the Messen...|           Books|          2|           15|         24|   N|                N|The messenger com...|While I don't alw...| 2005-10-14|\n",
            "|         US|   49441053|R34X92SSRBI0N4|0966170229|     396093604|PowerNomics : The...|           Books|          5|           26|         29|   N|                N|Live on your feet...|Mr. Andersons' bo...| 2005-10-14|\n",
            "|         US|   46181400| RGTKXJ8P5O7LR|0679778438|     682401490|The Kin of Ata Ar...|           Books|          4|           16|         21|   N|                N|beautiful, but pr...|It is a lovely bo...| 2005-10-14|\n",
            "|         US|   49435112|R1TK5Q90GGJSTN|0684870533|     425722098|Who Are We: The C...|           Books|          4|           59|         68|   N|                N| immigrant's support|As someone who ca...| 2005-10-14|\n",
            "|         US|   53094054|R3E8UZOCG84HNO|066422914X|     221289056|Deep Religious Pl...|           Books|          5|           18|         24|   N|                N|A Great Example o...|My first reaction...| 2005-10-14|\n",
            "|         US|   37245519|R33O2810BC4UR0|0800757394|     865514662|   Christ the Healer|           Books|          5|          101|        103|   N|                Y|Get the Right Edi...|I highly recommen...| 2005-10-14|\n",
            "|         US|   43676843|R1M60NYB4UPRJ8|1595620052|     156886043|Married to the Br...|           Books|          5|           19|         24|   N|                N|A Great Read For ...|This book is a gr...| 2005-10-14|\n",
            "|         US|   51988227|R38RXR8USISV94|0029146739|     318460719|The Bell Curve: I...|           Books|          4|         1150|       1228|   N|                N|More facts and le...|Since you're read...| 2005-10-14|\n",
            "|         US|   50131289|R2E2KP6K6OUBEX|0764109928|     317705982|Training Your Lab...|           Books|          5|           59|         60|   N|                N|Wonderful trainin...|I saw this book a...| 2005-10-14|\n",
            "|         US|   12065385|R3F583X11I1RP6|0972521976|     289061708|The Power of Posi...|           Books|          1|           40|         43|   N|                N|           WARNING!!|This book is sole...| 2005-10-14|\n",
            "+-----------+-----------+--------------+----------+--------------+--------------------+----------------+-----------+-------------+-----------+----+-----------------+--------------------+--------------------+-----------+\n",
            "only showing top 20 rows\n",
            "\n"
          ]
        }
      ]
    },
    {
      "cell_type": "code",
      "source": [
        "# Paid vine program\n",
        "\n",
        "df_vine_paid = df_help.filter(df_help.vine == 'Y')\n",
        "df_vine_paid.show()"
      ],
      "metadata": {
        "colab": {
          "base_uri": "https://localhost:8080/"
        },
        "id": "KQxPeiwlx4la",
        "outputId": "6a40fcf6-b93c-40ed-9bd3-037bc3f75f24"
      },
      "execution_count": 30,
      "outputs": [
        {
          "output_type": "stream",
          "name": "stdout",
          "text": [
            "+-----------+-----------+---------+----------+--------------+-------------+----------------+-----------+-------------+-----------+----+-----------------+---------------+-----------+-----------+\n",
            "|marketplace|customer_id|review_id|product_id|product_parent|product_title|product_category|star_rating|helpful_votes|total_votes|vine|verified_purchase|review_headline|review_body|review_date|\n",
            "+-----------+-----------+---------+----------+--------------+-------------+----------------+-----------+-------------+-----------+----+-----------------+---------------+-----------+-----------+\n",
            "+-----------+-----------+---------+----------+--------------+-------------+----------------+-----------+-------------+-----------+----+-----------------+---------------+-----------+-----------+\n",
            "\n"
          ]
        }
      ]
    },
    {
      "cell_type": "code",
      "source": [
        "# Unpaid vine program\n",
        "\n",
        "df_vine_unpaid = df_help.filter(df_help.vine == 'N')\n",
        "df_vine_unpaid.show()"
      ],
      "metadata": {
        "colab": {
          "base_uri": "https://localhost:8080/"
        },
        "id": "dgpKRr65yhBH",
        "outputId": "4fa4c28f-ba04-415e-88fd-75d96b97cf36"
      },
      "execution_count": 31,
      "outputs": [
        {
          "output_type": "stream",
          "name": "stdout",
          "text": [
            "+-----------+-----------+--------------+----------+--------------+--------------------+----------------+-----------+-------------+-----------+----+-----------------+--------------------+--------------------+-----------+\n",
            "|marketplace|customer_id|     review_id|product_id|product_parent|       product_title|product_category|star_rating|helpful_votes|total_votes|vine|verified_purchase|     review_headline|         review_body|review_date|\n",
            "+-----------+-----------+--------------+----------+--------------+--------------------+----------------+-----------+-------------+-----------+----+-----------------+--------------------+--------------------+-----------+\n",
            "|         US|   48541186|R1VE0FQQ0QTQJN|0300108834|     915891133|A Little History ...|           Books|          5|           16|         20|   N|                Y|Simple, entertain...|Never been much f...| 2005-10-14|\n",
            "|         US|   13503149|R3MD5TZJGIPTDU|1585424307|     915155182|Millionaire Repub...|           Books|          5|           21|         31|   N|                N|WHY NOT PRACTICE ...|This book isn't m...| 2005-10-14|\n",
            "|         US|   49355567| RX6OWUF8EFZ72|0060820810|     774905491|  The Stranger House|           Books|          5|           27|         28|   N|                N|PART ENGLISH HIST...|This is a marvelo...| 2005-10-14|\n",
            "|         US|   50913245|R1OPUF771LL5O5|067983883X|     527133677|Aztec, Inca & May...|           Books|          4|           27|         27|   N|                N|The artifacts of ...|My assumption is ...| 2005-10-14|\n",
            "|         US|   12517857|R3AW5JRZYH66M5|097150072X|     363879785|Truth vs Falsehoo...|           Books|          1|          268|        307|   N|                N|An Unexpected Gif...|\\\\\"Truth vs False...| 2005-10-14|\n",
            "|         US|   39487575|R2DXLNKF0EL4CI|0060731192|     242809158|Breaking the Bamb...|           Books|          4|           24|         27|   N|                Y|A Must Read But S...|It is to Jane Hyu...| 2005-10-14|\n",
            "|         US|   38233919|R12EHXBC0GP2C2|0761563601|     217303865|The Ultimate Book...|           Books|          5|           23|         24|   N|                N|         A must own!|Dobson begins her...| 2005-10-14|\n",
            "|         US|   37217168|R2JSWNTAO83X3V|1872197108|     334546428|Hitler's War and ...|           Books|          5|          145|        184|   N|                N| A book for the ages|This book is famo...| 2005-10-14|\n",
            "|         US|   50774468|R3THZWOBS1086J|0345445872|     823414849|    Queen of Camelot|           Books|          5|           46|         47|   N|                N|Riveting Arthuria...|I have searched a...| 2005-10-14|\n",
            "|         US|   50036420|R160DHJPJ4B20R|051509479X|      37347433|What You Think of...|           Books|          4|           28|         30|   N|                N|This book surpris...|Prior to reading ...| 2005-10-14|\n",
            "|         US|   37811500|R27UDFNE6MY1LO|0742538168|     339619920|Attack the Messen...|           Books|          2|           15|         24|   N|                N|The messenger com...|While I don't alw...| 2005-10-14|\n",
            "|         US|   49441053|R34X92SSRBI0N4|0966170229|     396093604|PowerNomics : The...|           Books|          5|           26|         29|   N|                N|Live on your feet...|Mr. Andersons' bo...| 2005-10-14|\n",
            "|         US|   46181400| RGTKXJ8P5O7LR|0679778438|     682401490|The Kin of Ata Ar...|           Books|          4|           16|         21|   N|                N|beautiful, but pr...|It is a lovely bo...| 2005-10-14|\n",
            "|         US|   49435112|R1TK5Q90GGJSTN|0684870533|     425722098|Who Are We: The C...|           Books|          4|           59|         68|   N|                N| immigrant's support|As someone who ca...| 2005-10-14|\n",
            "|         US|   53094054|R3E8UZOCG84HNO|066422914X|     221289056|Deep Religious Pl...|           Books|          5|           18|         24|   N|                N|A Great Example o...|My first reaction...| 2005-10-14|\n",
            "|         US|   37245519|R33O2810BC4UR0|0800757394|     865514662|   Christ the Healer|           Books|          5|          101|        103|   N|                Y|Get the Right Edi...|I highly recommen...| 2005-10-14|\n",
            "|         US|   43676843|R1M60NYB4UPRJ8|1595620052|     156886043|Married to the Br...|           Books|          5|           19|         24|   N|                N|A Great Read For ...|This book is a gr...| 2005-10-14|\n",
            "|         US|   51988227|R38RXR8USISV94|0029146739|     318460719|The Bell Curve: I...|           Books|          4|         1150|       1228|   N|                N|More facts and le...|Since you're read...| 2005-10-14|\n",
            "|         US|   50131289|R2E2KP6K6OUBEX|0764109928|     317705982|Training Your Lab...|           Books|          5|           59|         60|   N|                N|Wonderful trainin...|I saw this book a...| 2005-10-14|\n",
            "|         US|   12065385|R3F583X11I1RP6|0972521976|     289061708|The Power of Posi...|           Books|          1|           40|         43|   N|                N|           WARNING!!|This book is sole...| 2005-10-14|\n",
            "+-----------+-----------+--------------+----------+--------------+--------------------+----------------+-----------+-------------+-----------+----+-----------------+--------------------+--------------------+-----------+\n",
            "only showing top 20 rows\n",
            "\n"
          ]
        }
      ]
    },
    {
      "cell_type": "code",
      "source": [
        "# Paid reviews\n",
        "\n",
        "paid_reviews = df_vine_paid.count()\n",
        "paid_reviews"
      ],
      "metadata": {
        "colab": {
          "base_uri": "https://localhost:8080/"
        },
        "id": "rCLfUbJ9yzzG",
        "outputId": "5516b1d3-5117-407e-a02d-e94f62ecfdc9"
      },
      "execution_count": 32,
      "outputs": [
        {
          "output_type": "execute_result",
          "data": {
            "text/plain": [
              "0"
            ]
          },
          "metadata": {},
          "execution_count": 32
        }
      ]
    },
    {
      "cell_type": "code",
      "source": [
        "# Unpaid reviews\n",
        "unpaid_reviews = df_vine_unpaid.count()\n",
        "unpaid_reviews"
      ],
      "metadata": {
        "colab": {
          "base_uri": "https://localhost:8080/"
        },
        "id": "ljkwSye4z64G",
        "outputId": "249651a5-544b-4f90-fe9a-c1f73f82fb79"
      },
      "execution_count": 33,
      "outputs": [
        {
          "output_type": "execute_result",
          "data": {
            "text/plain": [
              "403807"
            ]
          },
          "metadata": {},
          "execution_count": 33
        }
      ]
    },
    {
      "cell_type": "code",
      "source": [
        "# 5 star reviews paid\n",
        "\n",
        "df_stars_paid = df_vine_paid.filter(df_vine_paid.star_rating == 5).count()\n",
        "df_stars_paid"
      ],
      "metadata": {
        "colab": {
          "base_uri": "https://localhost:8080/"
        },
        "id": "QgiUgJTT0Ebf",
        "outputId": "66bdb4d3-7561-4833-f47d-506d57a6ec3a"
      },
      "execution_count": 45,
      "outputs": [
        {
          "output_type": "execute_result",
          "data": {
            "text/plain": [
              "0"
            ]
          },
          "metadata": {},
          "execution_count": 45
        }
      ]
    },
    {
      "cell_type": "code",
      "source": [
        "# 5 star reviews unpaid\n",
        "df_stars_unpaid = df_vine_unpaid.filter(df_vine_unpaid.star_rating == 5).count()\n",
        "df_stars_unpaid"
      ],
      "metadata": {
        "colab": {
          "base_uri": "https://localhost:8080/"
        },
        "id": "97mIpBNt0R6t",
        "outputId": "195c1e0b-fa50-43f7-9e6f-a5612197bfe8"
      },
      "execution_count": 46,
      "outputs": [
        {
          "output_type": "execute_result",
          "data": {
            "text/plain": [
              "242889"
            ]
          },
          "metadata": {},
          "execution_count": 46
        }
      ]
    },
    {
      "cell_type": "code",
      "source": [
        "# Percentage of 5 star reviews paid (0/0)\n",
        "paid_five_star = (df_stars_paid / paid_reviews) * 100"
      ],
      "metadata": {
        "colab": {
          "base_uri": "https://localhost:8080/",
          "height": 183
        },
        "id": "1RyqcdUk2Q1x",
        "outputId": "a4794215-9035-4834-db28-21e619c43c7f"
      },
      "execution_count": 47,
      "outputs": [
        {
          "output_type": "error",
          "ename": "ZeroDivisionError",
          "evalue": "ignored",
          "traceback": [
            "\u001b[0;31m---------------------------------------------------------------------------\u001b[0m",
            "\u001b[0;31mZeroDivisionError\u001b[0m                         Traceback (most recent call last)",
            "\u001b[0;32m<ipython-input-47-117f77a3a9aa>\u001b[0m in \u001b[0;36m<module>\u001b[0;34m()\u001b[0m\n\u001b[1;32m      1\u001b[0m \u001b[0;31m# Percentage of 5 star reviews paid (0/0)\u001b[0m\u001b[0;34m\u001b[0m\u001b[0;34m\u001b[0m\u001b[0;34m\u001b[0m\u001b[0m\n\u001b[0;32m----> 2\u001b[0;31m \u001b[0mpaid_five_star\u001b[0m \u001b[0;34m=\u001b[0m \u001b[0;34m(\u001b[0m\u001b[0mdf_stars_paid\u001b[0m \u001b[0;34m/\u001b[0m \u001b[0mpaid_reviews\u001b[0m\u001b[0;34m)\u001b[0m \u001b[0;34m*\u001b[0m \u001b[0;36m100\u001b[0m\u001b[0;34m\u001b[0m\u001b[0;34m\u001b[0m\u001b[0m\n\u001b[0m",
            "\u001b[0;31mZeroDivisionError\u001b[0m: division by zero"
          ]
        }
      ]
    },
    {
      "cell_type": "code",
      "source": [
        "# Percentage of 5 star reviews unpaid\n",
        "unpaid_five_star = (df_stars_unpaid / unpaid_reviews) * 100\n",
        "unpaid_five_star"
      ],
      "metadata": {
        "colab": {
          "base_uri": "https://localhost:8080/"
        },
        "id": "whTOxdUu1h_h",
        "outputId": "97f0ac10-6dcc-4f22-b0f3-d787b245ce0d"
      },
      "execution_count": 48,
      "outputs": [
        {
          "output_type": "execute_result",
          "data": {
            "text/plain": [
              "60.14977452099642"
            ]
          },
          "metadata": {},
          "execution_count": 48
        }
      ]
    }
  ]
}